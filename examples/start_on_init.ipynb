{
 "cells": [
  {
   "cell_type": "markdown",
   "metadata": {},
   "source": [
    "# Start hardware on board power up\n",
    "\n",
    "This example shows you how to create hardware that starts when the board powers up over a serial connection. We will use the onboard LED. The steps are nearly identical over a WiFi connection. See start_webserver_over_serial.ipynb for details of starting a WiFi connection."
   ]
  },
  {
   "cell_type": "markdown",
   "metadata": {},
   "source": [
    "## Import packages"
   ]
  },
  {
   "cell_type": "code",
   "execution_count": 2,
   "metadata": {},
   "outputs": [],
   "source": [
    "import sys\n",
    "import os\n",
    "import time\n",
    "\n",
    "# Get the current working directory (the directory where the notebook is located)\n",
    "notebook_dir = os.getcwd()\n",
    "\n",
    "# Add the 'source' folder to the path\n",
    "sys.path.append(os.path.abspath(os.path.join(notebook_dir, '..', 'source')))\n",
    "\n",
    "# Now you can import from 'source'\n",
    "from serial_controller import SerialController\n",
    "from serial_command_sender import SerialCommandSender\n",
    "from web_controller import WebController\n",
    "from web_command_sender import WebCommandSender\n"
   ]
  },
  {
   "cell_type": "markdown",
   "metadata": {},
   "source": [
    "## Initialize the Serial Command Sender and configure LED to be ON immediately after the board starts up.\n",
    "\n",
    "Note: make sure nothing else is holding the serial line (for instance, a micropico VSC project). You may need to disconnect and reconnect the Pico's USB serial link."
   ]
  },
  {
   "cell_type": "code",
   "execution_count": null,
   "metadata": {},
   "outputs": [
    {
     "name": "stdout",
     "output_type": "stream",
     "text": [
      "Connected to COM6\n",
      "Command sent: run_command(\"create\",\"gpio\", {\"pin_number\": \"LED\", \"mode\": \"OUT\", \"value\": 1, \"start_on_init\": True}, \"persistent_gpio\")\n",
      "Created GPIO hardware with ID persistent_gpio.\n",
      "Command sent: run_command(\"apply_hardware_settings\",\"persistent_gpio\", {\"start_on_init:\": True})\n",
      "Settings applied to hardware ID persistent_gpio: {'start_on_init:': True}\n",
      "Command sent: run_command(\"start\",\"persistent_gpio\")\n",
      "Hardware with ID persistent_gpio started.\n",
      "Saving current configuration...\n",
      "Command sent: run_command(\"save_config\")\n",
      "Configuration saved.\n",
      "Saved configuration:\n",
      "Command sent: run_command(\"get_all_config\")\n",
      "All Configuration: {'hardware': {'persistent_gpio': {'settings': {'value': 1, 'hardware_id': 'persistent_gpio', 'pin_number': 'LED', 'start_on_init': True, 'mode': 'OUT'}, 'type': 'GPIOHardware'}}}\n",
      "Connection to COM6 closed.\n"
     ]
    }
   ],
   "source": [
    "SERIAL_PORT = \"COM6\" # Change as needed\n",
    "# Initialize the serial controller with the appropriate port. This must be done in every cell in jupyter notebooks to avoid holding the serial line. There is no such restriction in a python script.\n",
    "serial_controller = SerialController(port=SERIAL_PORT, debug=False)  # Adjust port as needed\n",
    "serial_controller.connect()\n",
    "# Initialize the command sender\n",
    "serial_command_sender = SerialCommandSender(serial_controller)\n",
    "\n",
    "# Create a GPIO hardware, this case we'll use the LED\n",
    "# Currently, there's a bug requireing the user to apply hardware settings for start on init to be applied.\n",
    "# In other words, creating with start_on_init = True will not work, but applying the settings after creation will.\n",
    "settings = {\n",
    "    'pin_number': \"LED\", # Use the built-in LED\n",
    "    'mode': 'OUT', # Set the pin as an output\n",
    "    'value': 1, # Set the initial value to 1 (turn on the LED)\n",
    "    'start_on_init': True # Start the LED on initialization\n",
    "}\n",
    "print(serial_command_sender.send_command('create', 'gpio', settings, \"persistent_gpio\"))\n",
    "print(serial_command_sender.send_command('apply_hardware_settings', \"persistent_gpio\", {'start_on_init:': True}))\n",
    "\n",
    "# Start the GPIO hardware, this assigns to settings to an actual component on the board\n",
    "print(serial_command_sender.send_command('start', 'persistent_gpio'))\n",
    "\n",
    "# Save the current configuration\n",
    "print(\"Saving current configuration...\")\n",
    "print(serial_command_sender.send_command('save_config')) # Now whenever the RP Pico W is powered on, the LED will be on automatically\n",
    "\n",
    "# Get the entire configuration\n",
    "print(\"Saved configuration:\")\n",
    "response = serial_command_sender.send_command('get_all_config')\n",
    "print(response)\n",
    "\n",
    "serial_controller.close() #Serial controller must be closed in each cell in jupyter notebooks to avoid holding the serial line. There is no such restriction in a python script.\n",
    "\n",
    "\n",
    "# Test the configuration by restarting the board manually. I.e. unplug and plug the board back in. The LED should be on when the board is powered on.\n"
   ]
  },
  {
   "cell_type": "markdown",
   "metadata": {},
   "source": [
    "## Remove the LED from startup\n",
    "To stop the LED from being on on startup you have 3 options:\n",
    "1. Set `hardware.persistent_gpio.value = 0` in the config, then save the config. In this case the LED will start in the off state.\n",
    "2. Set `hardware.persistent_gpio.start_on_init = False` in the config the config. In this case you will have to send the start command to turn the LED on again. \n",
    "3. Delete `hardware.persistent_gpio` in the config. In this case, you will have to create a new gpio hardware to turn the LED on.\n",
    "\n",
    "Below shows the 3 options, however option 3 will override the first 2 as it is done last."
   ]
  },
  {
   "cell_type": "code",
   "execution_count": null,
   "metadata": {},
   "outputs": [
    {
     "name": "stdout",
     "output_type": "stream",
     "text": [
      "Connected to COM6\n",
      "Command sent: run_command(\"apply_hardware_settings\",\"persistent_gpio\", {\"value\": 0})\n",
      "Settings applied to hardware ID persistent_gpio: {'value': 0}\n",
      "Command sent: run_command(\"save_config\")\n",
      "Configuration saved.\n",
      "Command sent: run_command(\"apply_hardware_settings\",\"persistent_gpio\", {\"start_on_init\": False})\n",
      "Settings applied to hardware ID persistent_gpio: {'start_on_init': False}\n",
      "Command sent: run_command(\"save_config\")\n",
      "Configuration saved.\n",
      "Command sent: run_command(\"delete\",\"persistent_gpio\")\n",
      "Hardware with ID persistent_gpio deleted.\n",
      "Command sent: run_command(\"save_config\")\n",
      "Configuration saved.\n",
      "Saved configuration:\n",
      "Command sent: run_command(\"get_all_config\")\n",
      "All Configuration: {'hardware': {}}\n",
      "Connection to COM6 closed.\n"
     ]
    }
   ],
   "source": [
    "# Initialize the serial controller with the appropriate port. This must be done in every cell in jupyter notebooks to avoid holding the serial line. There is no such restriction in a python script.\n",
    "serial_controller = SerialController(port=SERIAL_PORT, debug=False)  # Adjust port as needed\n",
    "serial_controller.connect()\n",
    "# Initialize the command sender\n",
    "serial_command_sender = SerialCommandSender(serial_controller)\n",
    "\n",
    "# Option 1: Turn off the LED\n",
    "new_settings_1 = {\n",
    "    'value': 0\n",
    "}\n",
    "print(serial_command_sender.send_command('apply_hardware_settings', 'persistent_gpio', new_settings_1))\n",
    "print(serial_command_sender.send_command('save_config')) # Save the new configuration\n",
    "\n",
    "# Option 2: Set start_on_init to False\n",
    "new_settings_2 = {\n",
    "    'start_on_init': False\n",
    "}\n",
    "print(serial_command_sender.send_command('apply_hardware_settings', 'persistent_gpio', new_settings_2))\n",
    "print(serial_command_sender.send_command('save_config')) # Save the new configuration\n",
    "\n",
    "# Option 3: Remove the GPIO hardware\n",
    "print(serial_command_sender.send_command('delete', 'persistent_gpio'))\n",
    "print(serial_command_sender.send_command('save_config')) # Save the new configuration\n",
    "\n",
    "# Get the entire configuration\n",
    "print(\"Saved configuration:\")\n",
    "response = serial_command_sender.send_command('get_all_config')\n",
    "print(response)\n",
    "\n",
    "\n",
    "serial_controller.close() #Serial controller must be closed in each cell in jupyter notebooks to avoid holding the serial line. There is no such restriction in a python script.\n",
    "\n"
   ]
  }
 ],
 "metadata": {
  "kernelspec": {
   "display_name": "base",
   "language": "python",
   "name": "python3"
  },
  "language_info": {
   "codemirror_mode": {
    "name": "ipython",
    "version": 3
   },
   "file_extension": ".py",
   "mimetype": "text/x-python",
   "name": "python",
   "nbconvert_exporter": "python",
   "pygments_lexer": "ipython3",
   "version": "3.9.7"
  }
 },
 "nbformat": 4,
 "nbformat_minor": 2
}
