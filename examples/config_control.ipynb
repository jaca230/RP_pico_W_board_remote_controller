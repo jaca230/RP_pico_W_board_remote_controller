{
 "cells": [
  {
   "cell_type": "markdown",
   "metadata": {},
   "source": [
    "# Controlling the Board Config\n",
    "\n",
    "This example shows you how to edit the board's configuration over a serial connection. The steps are nearly identical over a WiFi connection. See start_webserver_over_serial.ipynb for details of starting a WiFi connection."
   ]
  },
  {
   "cell_type": "markdown",
   "metadata": {},
   "source": [
    "## Import packages"
   ]
  },
  {
   "cell_type": "code",
   "execution_count": 2,
   "metadata": {},
   "outputs": [],
   "source": [
    "import sys\n",
    "import os\n",
    "import time\n",
    "\n",
    "# Get the current working directory (the directory where the notebook is located)\n",
    "notebook_dir = os.getcwd()\n",
    "\n",
    "# Add the 'source' folder to the path\n",
    "sys.path.append(os.path.abspath(os.path.join(notebook_dir, '..', 'source')))\n",
    "\n",
    "# Now you can import from 'source'\n",
    "from serial_controller import SerialController\n",
    "from serial_command_sender import SerialCommandSender\n",
    "from web_controller import WebController\n",
    "from web_command_sender import WebCommandSender\n"
   ]
  },
  {
   "cell_type": "markdown",
   "metadata": {},
   "source": [
    "## Initialize the Serial Command Sender and edit configuration\n",
    "\n",
    "Note: make sure nothing else is holding the serial line (for instance, a micropico VSC project). You may need to disconnect and reconnect the Pico's USB serial link."
   ]
  },
  {
   "cell_type": "code",
   "execution_count": null,
   "metadata": {},
   "outputs": [
    {
     "name": "stdout",
     "output_type": "stream",
     "text": [
      "Connected to COM6\n",
      "Created GPIO hardware with ID test_gpio.\n",
      "All Configuration: {'hardware': {'test_gpio': {'settings': {'value': 0, 'hardware_id': 'test_gpio', 'pin_number': 'LED', 'start_on_init': False, 'mode': 'OUT'}, 'type': 'GPIOHardware'}}}\n",
      "\n",
      "Set config for 'hardware.test_gpio.settings.value' to 1\n",
      "All Configuration: {'hardware': {'test_gpio': {'settings': {'value': 1, 'hardware_id': 'test_gpio', 'pin_number': 'LED', 'start_on_init': False, 'mode': 'OUT'}, 'type': 'GPIOHardware'}}}\n",
      "\n",
      "Configuration applied.\n",
      "All Configuration: {'hardware': {}}\n",
      "\n",
      "Set config for 'new_key' to new_value\n",
      "All Configuration: {'new_key': 'new_value', 'hardware': {}}\n",
      "\n",
      "Set config for 'new_key' to 12345\n",
      "All Configuration: {'new_key': 12345, 'hardware': {}}\n",
      "\n",
      "Set config for 'new_key' to 12345\n",
      "All Configuration: {'new_key': 12345, 'hardware': {}}\n",
      "\n",
      "Configuration saved.\n",
      "All Configuration: {'new_key': 12345, 'hardware': {}}\n",
      "\n",
      "Config key 'new_key' successfully removed.\n",
      "All Configuration: {'hardware': {}}\n",
      "\n",
      "Configuration loaded.\n",
      "All Configuration: {'hardware': {}, 'new_key': 12345}\n",
      "Hardware with ID test_gpio deleted.\n",
      "Config key 'new_key' successfully removed.\n",
      "Configuration saved.\n",
      "All Configuration: {'hardware': {}}\n",
      "\n",
      "Connection to COM6 closed.\n"
     ]
    }
   ],
   "source": [
    "# Initialize the serial controller with the appropriate port. This must be done in every cell in jupyter notebooks to avoid holding the serial line. There is no such restriction in a python script.\n",
    "SERIAL_PORT = \"COM6\" #Find the serial port your RP Pico W is connected to, can use the MicroPico: Help > List Serial Ports in VSC's MicroPico package. Hit F1 to search for command in VSC\n",
    "serial_controller = SerialController(port=SERIAL_PORT, debug=False)  # Adjust port as needed\n",
    "serial_controller.connect()\n",
    "\n",
    "# Initialize the command sender\n",
    "serial_command_sender = SerialCommandSender(serial_controller)\n",
    "\n",
    "# First, let's create a GPIO hardware so we have some config to play with\n",
    "settings = {\n",
    "    'pin_number': \"LED\", # Use the built-in LED\n",
    "    'mode': 'OUT', # Set the pin as an output\n",
    "    'value': 0, # Set the initial value to 1 (turn on the LED)\n",
    "}\n",
    "print(serial_command_sender.send_command('create', 'gpio', settings, \"test_gpio\")) # Create the GPIO hardware\n",
    "print(serial_command_sender.send_command('get_all_config')) # Print the current configuration\n",
    "print()\n",
    "\n",
    "# Now let's turn the LED off in an untranditional way by editting the config\n",
    "print(serial_command_sender.send_command('set_config', 'hardware.test_gpio.settings.value', 1)) # Set a new key-value pair\n",
    "print(serial_command_sender.send_command('get_all_config')) # Print the current configuration\n",
    "print()\n",
    "\n",
    "# The LED will turn on once we apply the config\n",
    "print(serial_command_sender.send_command('apply_config')) #  BUG: Apply config is not working as expected...\n",
    "print(serial_command_sender.send_command('get_all_config')) # Print the current configuration\n",
    "print()\n",
    "\n",
    "time.sleep(1) # Just so you can verify the LED actually did turn on\n",
    "\n",
    "# Now let's create a new key-value pair in the configuration\n",
    "print(serial_command_sender.send_command('set_config', 'new_key', 'new_value')) # Set a new key-value pair\n",
    "print(serial_command_sender.send_command('get_all_config')) # Print the current configuration\n",
    "print()\n",
    "\n",
    "# Let's edit that existing key\n",
    "print(serial_command_sender.send_command('set_config', 'new_key', 12345)) # Set a new key-value pair\n",
    "print(serial_command_sender.send_command('get_all_config')) # Print the current configuration\n",
    "print()\n",
    "\n",
    "# Let's save the configuration\n",
    "print(serial_command_sender.send_command('save_config')) # Save the new configuration\n",
    "print(serial_command_sender.send_command('get_all_config')) # Print the current configuration\n",
    "print()\n",
    "\n",
    "# Now let's delete the new key\n",
    "print(serial_command_sender.send_command('delete_config_key', 'new_key')) # Delete the new key\n",
    "print(serial_command_sender.send_command('get_all_config')) # Print the current configuration\n",
    "print()\n",
    "\n",
    "# We can reverse that delete by reverting back to our saved config\n",
    "print(serial_command_sender.send_command('load_config')) # Load the saved configuration\n",
    "print(serial_command_sender.send_command('get_all_config')) # Print the current configuration\n",
    "print()\n",
    "\n",
    "#Cleanup\n",
    "print(serial_command_sender.send_command('delete', 'test_gpio'))\n",
    "print(serial_command_sender.send_command('delete_config_key', 'new_key')) # Delete the new key\n",
    "print(serial_command_sender.send_command('save_config')) # Save the new configuration\n",
    "print(serial_command_sender.send_command('get_all_config')) # Print the current configuration\n",
    "print()\n",
    "\n",
    "serial_controller.close() #Serial controller must be closed in each cell in jupyter notebooks to avoid holding the serial line. There is no such restriction in a python script.\n"
   ]
  }
 ],
 "metadata": {
  "kernelspec": {
   "display_name": "base",
   "language": "python",
   "name": "python3"
  },
  "language_info": {
   "codemirror_mode": {
    "name": "ipython",
    "version": 3
   },
   "file_extension": ".py",
   "mimetype": "text/x-python",
   "name": "python",
   "nbconvert_exporter": "python",
   "pygments_lexer": "ipython3",
   "version": "3.9.7"
  }
 },
 "nbformat": 4,
 "nbformat_minor": 2
}
