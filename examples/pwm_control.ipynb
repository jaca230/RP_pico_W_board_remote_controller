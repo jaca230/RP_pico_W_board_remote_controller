{
 "cells": [
  {
   "cell_type": "markdown",
   "metadata": {},
   "source": [
    "# Configure PWM\n",
    "\n",
    "This example shows you how to start a pulse width modulation on a pin and change it in real time over a serial connection. The steps are nearly identical over a WiFi connection. See start_webserver_over_serial.ipynb for details of starting a WiFi connection.\n",
    "\n",
    "This example works best if you view pin 15 on an oscilloscope while running."
   ]
  },
  {
   "cell_type": "markdown",
   "metadata": {},
   "source": [
    "## Import packages"
   ]
  },
  {
   "cell_type": "code",
   "execution_count": 12,
   "metadata": {},
   "outputs": [],
   "source": [
    "import sys\n",
    "import os\n",
    "import time\n",
    "\n",
    "# Get the current working directory (the directory where the notebook is located)\n",
    "notebook_dir = os.getcwd()\n",
    "\n",
    "# Add the 'source' folder to the path\n",
    "sys.path.append(os.path.abspath(os.path.join(notebook_dir, '..', 'source')))\n",
    "\n",
    "# Now you can import from 'source'\n",
    "from serial_controller import SerialController\n",
    "from serial_command_sender import SerialCommandSender\n",
    "from web_controller import WebController\n",
    "from web_command_sender import WebCommandSender\n"
   ]
  },
  {
   "cell_type": "markdown",
   "metadata": {},
   "source": [
    "## Initialize the Serial Command Sender and Control PWM\n",
    "\n",
    "Note: make sure nothing else is holding the serial line (for instance, a micropico VSC project). You may need to disconnect and reconnect the Pico's USB serial link."
   ]
  },
  {
   "cell_type": "code",
   "execution_count": null,
   "metadata": {},
   "outputs": [
    {
     "name": "stdout",
     "output_type": "stream",
     "text": [
      "Connected to COM6\n",
      "Available commands:\n",
      "Command sent: run_command(\"list_commands\")\n",
      "\tapply_hardware_settings(hardware_id, settings)\n",
      "\tget_all_config()\n",
      "\tset_config(config_key, value)\n",
      "\tconnect_wifi()\n",
      "\tstart_webserver()\n",
      "\tstop_webserver()\n",
      "\tset_wifi_credentials(ssid, password)\n",
      "\tstart(hardware_id)\n",
      "\tget_config(config_key)\n",
      "\tdelete_config_key(config_key)\n",
      "\tlist_commands()\n",
      "\tapply_webserver_settings(settings)\n",
      "\tdelete(hardware_id)\n",
      "\tstop(hardware_id)\n",
      "\tcreate(settings)\n",
      "\tsave_config()\n",
      "\tload_config()\n",
      "\tapply_config()\n",
      "Command sent: run_command(\"create\",\"pwm\", {\"pin_number\": 15, \"frequency\": 1000, \"duty_cycle\": 0.5}, \"test_pwm\")\n",
      "Created PWM hardware with ID test_pwm.\n",
      "Command sent: run_command(\"start\",\"test_pwm\")\n",
      "Hardware with ID test_pwm started.\n",
      "Command sent: run_command(\"apply_hardware_settings\",\"test_pwm\", {\"frequency\": 2000, \"pulse_width_ns\": 100000})\n",
      "Settings applied to hardware ID test_pwm: {'pulse_width_ns': 100000, 'frequency': 2000}\n",
      "Command sent: run_command(\"stop\",\"test_pwm\")\n",
      "Component on hardware ID test_pwm stopped.\n",
      "Command sent: run_command(\"delete\",\"test_pwm\")\n",
      "Hardware with ID test_pwm deleted.\n",
      "Connection to COM6 closed.\n"
     ]
    }
   ],
   "source": [
    "# Initialize the serial controller with the appropriate port. This must be done in every cell in jupyter notebooks to avoid holding the serial line. There is no such restriction in a python script.\n",
    "SERIAL_PORT = \"COM6\" #Find the serial port your RP Pico W is connected to, can use the MicroPico: Help > List Serial Ports in VSC's MicroPico package. Hit F1 to search for command in VSC\n",
    "serial_controller = SerialController(port=SERIAL_PORT, debug=False)  # Adjust port as needed\n",
    "serial_controller.connect()\n",
    "\n",
    "# Initialize the command sender\n",
    "serial_command_sender = SerialCommandSender(serial_controller)\n",
    "\n",
    "# List available commands\n",
    "print(\"Available commands:\")\n",
    "response = serial_command_sender.send_command('list_commands')\n",
    "response_with_tabs = \"\\n\".join(\"\\t\" + line for line in response.splitlines())\n",
    "print(response_with_tabs) # Print the response with tabs to make it easier to read\n",
    "\n",
    "# Create a PWM hardware, in this case we'll use pin 15\n",
    "settings = {\n",
    "    'pin_number': 15, # Use pin 15\n",
    "    'frequency': 1000, # Set the frequency to 1 kHz\n",
    "    'duty_cycle': 0.5, # Set the duty cycle to 50%\n",
    "    #'pulse_width_ns': 10000 # Set the pulse width to 10 microseconds (alternative to duty_cycle)\n",
    "}\n",
    "print(serial_command_sender.send_command('create', 'pwm', settings, \"test_pwm\"))\n",
    "\n",
    "# Start the PWM hardware\n",
    "print(serial_command_sender.send_command('start', 'test_pwm'))\n",
    "\n",
    "time.sleep(5)  # Wait for 5 seconds\n",
    "\n",
    "# Change PWM parameters on the fly\n",
    "new_settings = {\n",
    "    'frequency': 2000,\n",
    "    'pulse_width_ns': 100000 # Set the pulse width to 100 microseconds (alternative to duty_cycle)\n",
    "}\n",
    "print(serial_command_sender.send_command('apply_hardware_settings', 'test_pwm', new_settings))\n",
    "\n",
    "time.sleep(5)  # Wait for 5 seconds\n",
    "\n",
    "# Stop the PWM hardware\n",
    "print(serial_command_sender.send_command('stop', 'test_pwm'))\n",
    "\n",
    "# Delete the PWM hardware from the list of active hardware\n",
    "# If you don't delete the hardware, you won't be able to create a new hardware with the same name\n",
    "# The hardware configuration lives for the lifetime of the \"firmware\", so in principle\n",
    "# you could not delete the hardware and start it in a completely different python instance\n",
    "print(serial_command_sender.send_command('delete', 'test_pwm'))\n",
    "\n",
    "\n",
    "serial_controller.close() #Serial controller must be closed in each cell in jupyter notebooks to avoid holding the serial line. There is no such restriction in a python script.\n"
   ]
  }
 ],
 "metadata": {
  "kernelspec": {
   "display_name": "base",
   "language": "python",
   "name": "python3"
  },
  "language_info": {
   "codemirror_mode": {
    "name": "ipython",
    "version": 3
   },
   "file_extension": ".py",
   "mimetype": "text/x-python",
   "name": "python",
   "nbconvert_exporter": "python",
   "pygments_lexer": "ipython3",
   "version": "3.9.7"
  }
 },
 "nbformat": 4,
 "nbformat_minor": 2
}
