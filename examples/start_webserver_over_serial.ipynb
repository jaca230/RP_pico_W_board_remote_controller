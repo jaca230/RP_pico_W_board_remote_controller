{
 "cells": [
  {
   "cell_type": "markdown",
   "id": "c3b97f5e",
   "metadata": {},
   "source": [
    "# Start a Webserver using Serial\n",
    "\n",
    "This example shows you how to start the webserver over serial connection"
   ]
  },
  {
   "cell_type": "markdown",
   "id": "60b624f5",
   "metadata": {},
   "source": [
    "## Import packages"
   ]
  },
  {
   "cell_type": "code",
   "execution_count": 1,
   "id": "eb958999",
   "metadata": {},
   "outputs": [],
   "source": [
    "import sys\n",
    "import os\n",
    "import time\n",
    "\n",
    "# Get the current working directory (the directory where the notebook is located)\n",
    "notebook_dir = os.getcwd()\n",
    "\n",
    "# Add the 'source' folder to the path\n",
    "sys.path.append(os.path.abspath(os.path.join(notebook_dir, '..', 'source')))\n",
    "\n",
    "# Now you can import from 'source'\n",
    "from serial_controller import SerialController\n",
    "from serial_command_sender import SerialCommandSender\n",
    "from web_controller import WebController\n",
    "from web_command_sender import WebCommandSender\n"
   ]
  },
  {
   "cell_type": "markdown",
   "id": "f3f03ed1",
   "metadata": {},
   "source": [
    "## Initialize the Serial Command Sender and Connect to WiFi\n",
    "\n",
    "Note: make sure nothing else is holding the serial line (for instance, a micropico VSC project). You may need to disconnect and reconnect the Pico's USB serial link.\n",
    "\n",
    "After the webserver is started, serial commands can no longer be used. The webserver takes up the whole micropython thread."
   ]
  },
  {
   "cell_type": "code",
   "execution_count": null,
   "id": "d0c0fb5d",
   "metadata": {},
   "outputs": [],
   "source": [
    "# Initialize the serial controller with the appropriate port. This must be done in every cell in jupyter notebooks to avoid holding the serial line. There is no such restriction in a python script.\n",
    "SERIAL_PORT = \"COM6\" #Find the serial port your RP Pico W is connected to, can use the MicroPico: Help > List Serial Ports in VSC's MicroPico package. Hit F1 to search for command in VSC\n",
    "serial_controller = SerialController(port=SERIAL_PORT, debug=False)  # Adjust port as needed\n",
    "serial_controller.connect()\n",
    "# Initialize the command sender\n",
    "serial_command_sender = SerialCommandSender(serial_controller)\n",
    "\n",
    "# List available commands\n",
    "print(\"Available commands:\")\n",
    "response = serial_command_sender.send_command('list_commands')\n",
    "response_with_tabs = \"\\n\".join(\"\\t\" + line for line in response.splitlines())\n",
    "print(response_with_tabs) # Print the response with tabs to make it easier to read\n",
    "\n",
    "# Set WiFi credentials\n",
    "WIFI_SSID = \"YOUR_WIFI_SSID\"\n",
    "WIFI_PASSWORD = \"YOUR_WIFI_PASSWORD\"\n",
    "response = serial_command_sender.send_command(\"set_wifi_credentials\",WIFI_SSID, WIFI_PASSWORD)\n",
    "print(response)\n",
    "\n",
    "# Connect to the internet (this may take up to 10 seconds)\n",
    "response = serial_command_sender.send_command(\"connect_wifi\")\n",
    "print(response)\n",
    "\n",
    "\n",
    "# Configure the Webserver (optional)\n",
    "settings = {\n",
    "    \"port\": 80, # Port for the webserver\n",
    "    \"debug\": False # Level of printed information in micropython on pico\n",
    "}\n",
    "# Connect to the internet (this may take up to 10 seconds)\n",
    "response = serial_command_sender.send_command(\"apply_webserver_settings\", settings)\n",
    "print(response)\n",
    "\n",
    "# Start Webserver\n",
    "response = serial_command_sender.send_command(\"start_webserver\")\n",
    "print(response)\n",
    "\n",
    "\n",
    "serial_controller.close() #Serial controller must be closed in each cell in jupyter notebooks to avoid holding the serial line. There is no such restriction in a python script.\n"
   ]
  },
  {
   "cell_type": "markdown",
   "id": "3aace6c2",
   "metadata": {},
   "source": [
    "## Initialize Web Command Sender and Turn an LED on and off\n",
    "\n",
    "Use the webserver address printed above to connect to the RP Pico"
   ]
  },
  {
   "cell_type": "code",
   "execution_count": null,
   "id": "97e61f4f",
   "metadata": {},
   "outputs": [],
   "source": [
    "# Initialize the web controller with the base URL of the webserver\n",
    "BASE_URL = \"http://192.168.50.199:80\" # Change to the IP address of your RP Pico W, see output above\n",
    "web_controller = WebController(base_url=BASE_URL, debug=False)\n",
    "# Initialize the command sender\n",
    "web_command_sender = WebCommandSender(web_controller)\n",
    "\n",
    "# Create a GPIO hardware, this case we'll use the LED\n",
    "settings = {\n",
    "    'pin_number': \"LED\", # Use the built-in LED\n",
    "    'mode': 'OUT', # Set the pin as an output\n",
    "    'value': 0, # Set the initial value to 0 (turn off the LED)\n",
    "}\n",
    "print(web_command_sender.send_command('create', 'gpio', settings, \"test_gpio\"))\n",
    "\n",
    "# Start the GPIO hardware, this assigns to settings to an actual component on the board\n",
    "print(web_command_sender.send_command('start', 'test_gpio'))\n",
    "\n",
    "# Set GPIO value to 1 (turn on LED)\n",
    "print(web_command_sender.send_command('apply_hardware_settings', 'test_gpio', {'value': 1}))\n",
    "\n",
    "time.sleep(1)  # Wait for 1 second\n",
    "\n",
    "# Set GPIO value back to 0 (turn off LED)\n",
    "print(web_command_sender.send_command('apply_hardware_settings', 'test_gpio', {'value': 0}))\n",
    "\n",
    "# Delete the test GPIO hardware\n",
    "print(web_command_sender.send_command('delete', 'test_gpio'))\n",
    "\n",
    "# Stop the webserver\n",
    "print(web_command_sender.send_command('stop_webserver'))\n"
   ]
  },
  {
   "cell_type": "markdown",
   "id": "3eb57ad6",
   "metadata": {},
   "source": [
    "## Configure Board to Start Webserver on power up\n",
    "\n",
    "It would be quite useless to only be able to start the webserver when the serial connection is plugged in. So we store some settings in a config.json file on the board."
   ]
  },
  {
   "cell_type": "code",
   "execution_count": null,
   "id": "7f118dc1",
   "metadata": {},
   "outputs": [],
   "source": [
    "# Initialize the serial controller with the appropriate port. This must be done in every cell in jupyter notebooks to avoid holding the serial line. There is no such restriction in a python script.\n",
    "serial_controller = SerialController(port=SERIAL_PORT, debug=False)  # Adjust port as needed\n",
    "serial_controller.connect()\n",
    "# Initialize the command sender\n",
    "serial_command_sender = SerialCommandSender(serial_controller)\n",
    "\n",
    "# Get the entire configuration\n",
    "print(\"Current configuration:\")\n",
    "response = serial_command_sender.send_command('get_all_config')\n",
    "print(response)\n",
    "\n",
    "# Set the webserver to start on initialization \n",
    "print(\"Current configuration:\")\n",
    "response = serial_command_sender.send_command('set_config', 'webserver.start_on_init', True)\n",
    "print(response)\n",
    "\n",
    "# Save the current configuration\n",
    "print(\"Saving current configuration...\")\n",
    "print(serial_command_sender.send_command('save_config')) # Now whenever the RP Pico W is powered on, the webserver will start automatically\n",
    "\n",
    "# Get the entire configuration\n",
    "print(\"New configuration:\")\n",
    "response = serial_command_sender.send_command('get_all_config')\n",
    "print(response)\n",
    "\n",
    "serial_controller.close() #Serial controller must be closed in each cell in jupyter notebooks to avoid holding the serial line. There is no such restriction in a python script.\n"
   ]
  }
 ],
 "metadata": {
  "kernelspec": {
   "display_name": "base",
   "language": "python",
   "name": "python3"
  },
  "language_info": {
   "codemirror_mode": {
    "name": "ipython",
    "version": 3
   },
   "file_extension": ".py",
   "mimetype": "text/x-python",
   "name": "python",
   "nbconvert_exporter": "python",
   "pygments_lexer": "ipython3",
   "version": "3.9.7"
  }
 },
 "nbformat": 4,
 "nbformat_minor": 5
}
